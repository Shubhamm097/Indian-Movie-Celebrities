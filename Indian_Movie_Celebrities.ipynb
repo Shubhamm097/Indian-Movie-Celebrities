{
  "nbformat": 4,
  "nbformat_minor": 0,
  "metadata": {
    "colab": {
      "name": "Indian_Movie_Celebrities.ipynb",
      "provenance": []
    },
    "kernelspec": {
      "name": "python3",
      "display_name": "Python 3"
    },
    "accelerator": "GPU"
  },
  "cells": [
    {
      "cell_type": "code",
      "metadata": {
        "id": "zYgeTImj9JmX",
        "colab_type": "code",
        "colab": {}
      },
      "source": [
        "import requests\n",
        "from bs4 import BeautifulSoup\n",
        "import csv \n",
        "import pandas as pd\n",
        "import numpy as np"
      ],
      "execution_count": 0,
      "outputs": []
    },
    {
      "cell_type": "code",
      "metadata": {
        "id": "RfQ5keug9exi",
        "colab_type": "code",
        "colab": {}
      },
      "source": [
        "# So in order to extract indian movie celebs, I have used IMDB website.\n",
        "url = \"https://www.imdb.com/list/ls002913270/\"\n",
        "r = requests.get(url)"
      ],
      "execution_count": 0,
      "outputs": []
    },
    {
      "cell_type": "code",
      "metadata": {
        "id": "tG_34Xwm_Vz6",
        "colab_type": "code",
        "colab": {}
      },
      "source": [
        "soup = BeautifulSoup(r.content, 'html5lib') "
      ],
      "execution_count": 0,
      "outputs": []
    },
    {
      "cell_type": "code",
      "metadata": {
        "id": "7d6cGu5u_yIj",
        "colab_type": "code",
        "colab": {
          "base_uri": "https://localhost:8080/",
          "height": 54
        },
        "outputId": "341d284d-d474-47e9-eae5-6e89cbc301ea"
      },
      "source": [
        "table = soup.find('div', attrs = {'class':'lister-list'}) \n",
        "celebrities = []# A list containing details for url personality, name of celebs and the link to their image\n",
        "for row in table.findAll('div', attrs = {'class':'lister-item-image'}): \n",
        "    t = (row.img['alt'], row.img['src'], row.a['href'])\n",
        "    celebrities.append(t)\n",
        "\n",
        "print(celebrities)"
      ],
      "execution_count": 5,
      "outputs": [
        {
          "output_type": "stream",
          "text": [
            "[('Shah Rukh Khan', 'https://m.media-amazon.com/images/M/MV5BZDk1ZmU0NGYtMzQ2Yi00N2NjLTkyNWEtZWE2NTU4NTJiZGUzXkEyXkFqcGdeQXVyMTExNDQ2MTI@._V1_UY209_CR3,0,140,209_AL_.jpg', '/name/nm0451321/'), ('Aamir Khan', 'https://m.media-amazon.com/images/M/MV5BMjAwMjk3NDUzN15BMl5BanBnXkFtZTcwNjI4MTY0NA@@._V1_UX140_CR0,0,140,209_AL_.jpg', '/name/nm0451148/'), ('Salman Khan', 'https://m.media-amazon.com/images/M/MV5BMjMwNTIxODg0OF5BMl5BanBnXkFtZTgwODg2NzM0OTE@._V1_UY209_CR7,0,140,209_AL_.jpg', '/name/nm0006795/'), ('Katrina Kaif', 'https://m.media-amazon.com/images/M/MV5BYjFjZGMwNWEtYWYwZi00NjdiLTk3NDMtOGVlOTkwOWFhYjE0XkEyXkFqcGdeQXVyMTA0NTY2NTIz._V1_UY209_CR34,0,140,209_AL_.jpg', '/name/nm1229940/'), ('Kareena Kapoor', 'https://m.media-amazon.com/images/M/MV5BMjAyNjM4NTAwN15BMl5BanBnXkFtZTcwNDkxNzQzNg@@._V1_UY209_CR87,0,140,209_AL_.jpg', '/name/nm0004626/'), ('Karisma Kapoor', 'https://m.media-amazon.com/images/M/MV5BMzY4NTkxMzc3OF5BMl5BanBnXkFtZTgwMTc1MzY3OTE@._V1_UY209_CR2,0,140,209_AL_.jpg', '/name/nm0006433/'), ('Hrithik Roshan', 'https://m.media-amazon.com/images/M/MV5BZjYwYjE4YjQtMTFmMi00NTlhLThjZjUtZTIyMTczMGU2ZDE5XkEyXkFqcGdeQXVyNzM2NzM0NDU@._V1_UX140_CR0,0,140,209_AL_.jpg', '/name/nm0004335/'), ('Priyanka Chopra', 'https://m.media-amazon.com/images/M/MV5BMjAxNzUwNjExOV5BMl5BanBnXkFtZTcwNDUyMTUxNw@@._V1_UY209_CR70,0,140,209_AL_.jpg', '/name/nm1231899/'), ('Amitabh Bachchan', 'https://m.media-amazon.com/images/M/MV5BNTk1OTUxMzIzMV5BMl5BanBnXkFtZTcwMzMxMjI0Nw@@._V1_UY209_CR6,0,140,209_AL_.jpg', '/name/nm0000821/'), ('Ranbir Kapoor', 'https://m.media-amazon.com/images/M/MV5BMTk2ODU5Mjk2MV5BMl5BanBnXkFtZTcwODEzNDg3OA@@._V1_UX140_CR0,0,140,209_AL_.jpg', '/name/nm1633541/'), ('Anushka Sharma', 'https://m.media-amazon.com/images/M/MV5BNGM5YmYwNjUtNzQyYS00OGY0LTljZDAtMDNiMjhiOTFiMzRiXkEyXkFqcGdeQXVyMTExNDQ2MTI@._V1_UY209_CR2,0,140,209_AL_.jpg', '/name/nm3087728/'), ('Imran Khan', 'https://m.media-amazon.com/images/M/MV5BMTk1MzY4MzgxM15BMl5BanBnXkFtZTgwMTgyMjkyODE@._V1_UY209_CR27,0,140,209_AL_.jpg', '/name/nm1405359/'), ('Deepika Padukone', 'https://m.media-amazon.com/images/M/MV5BNGFlYzAyYjgtNzRjNS00NmE4LTliOGYtYzBkYzU5MzRhMDM0XkEyXkFqcGdeQXVyMTExNDQ2MTI@._V1_UX140_CR0,0,140,209_AL_.jpg', '/name/nm2138653/'), ('Ali Zafar', 'https://m.media-amazon.com/images/M/MV5BMjM5MTMyNDI0OV5BMl5BanBnXkFtZTgwNTEzMjgzOTE@._V1_UX140_CR0,0,140,209_AL_.jpg', '/name/nm3773554/'), ('Akshay Kumar', 'https://m.media-amazon.com/images/M/MV5BODI4NDY1NzkyM15BMl5BanBnXkFtZTgwNzM3MDM0OTE@._V1_UY209_CR13,0,140,209_AL_.jpg', '/name/nm0474774/'), ('Aishwarya Rai Bachchan', 'https://m.media-amazon.com/images/M/MV5BMjEyMjEyODkzN15BMl5BanBnXkFtZTcwODkxMTY1Mg@@._V1_UX140_CR0,0,140,209_AL_.jpg', '/name/nm0706787/'), ('Rani Mukherjee', 'https://m.media-amazon.com/images/G/01/imdb/images/nopicture/medium/name-2135195744._CB466677935_.png', '/name/nm4727357/'), ('John Abraham', 'https://m.media-amazon.com/images/M/MV5BMTY1MDUyMjI1N15BMl5BanBnXkFtZTYwMjg4MjA0._V1_UX140_CR0,0,140,209_AL_.jpg', '/name/nm1303433/'), ('Bipasha Basu', 'https://m.media-amazon.com/images/M/MV5BOTUzYzU0MmQtZTkxMi00MDRlLTkyZGUtOTY1YzkzOGIyMjAwXkEyXkFqcGdeQXVyNjY1MTg4Mzc@._V1_UY209_CR7,0,140,209_AL_.jpg', '/name/nm0060607/'), ('Rajinikanth', 'https://m.media-amazon.com/images/M/MV5BMTA3MDcyNzkxMjZeQTJeQWpwZ15BbWU3MDUxMTU4Njg@._V1_UY209_CR1,0,140,209_AL_.jpg', '/name/nm0707425/'), ('Asin Thottumkal', 'https://m.media-amazon.com/images/M/MV5BMjA4MjkyMzAxNl5BMl5BanBnXkFtZTcwOTEyMjMyMg@@._V1_UX140_CR0,0,140,209_AL_.jpg', '/name/nm1821791/'), ('Dilip Kumar', 'https://m.media-amazon.com/images/M/MV5BMzg0NTM0MjYxN15BMl5BanBnXkFtZTcwMzY1NTAzMQ@@._V1_UY209_CR68,0,140,209_AL_.jpg', '/name/nm0474801/'), ('Hema Malini', 'https://m.media-amazon.com/images/M/MV5BMTAxNjkwODczMzleQTJeQWpwZ15BbWU3MDY2NzA4MTg@._V1_UY209_CR5,0,140,209_AL_.jpg', '/name/nm0004564/'), ('Madhuri Dixit', 'https://m.media-amazon.com/images/M/MV5BNTk0OTFkZGItYTQxMi00YTUwLTlkMGEtMTIyZDNlNDc0MzRlXkEyXkFqcGdeQXVyMTgzNTY5OTc@._V1_UY209_CR34,0,140,209_AL_.jpg', '/name/nm0002043/'), ('Govinda', 'https://m.media-amazon.com/images/M/MV5BNzEwNDgwMTk3Nl5BMl5BanBnXkFtZTgwNjMwOTU4MDI@._V1_UY209_CR14,0,140,209_AL_.jpg', '/name/nm0332871/'), ('Mahie Gill', 'https://m.media-amazon.com/images/M/MV5BMjI4ODU1NTU1MF5BMl5BanBnXkFtZTgwMzM4NDczMDE@._V1_UY209_CR86,0,140,209_AL_.jpg', '/name/nm2977124/'), ('Preity Zinta', 'https://m.media-amazon.com/images/M/MV5BNjM3NzY5ODkwNl5BMl5BanBnXkFtZTcwMDUwMDgxOA@@._V1_UY209_CR7,0,140,209_AL_.jpg', '/name/nm0006689/'), ('Arshad Warsi', 'https://m.media-amazon.com/images/M/MV5BNmMwOGYwMjUtN2M5My00ODIxLWI3ZjctODM2MGI4OGQzOWM0XkEyXkFqcGdeQXVyMTExNDQ2MTI@._V1_UY209_CR6,0,140,209_AL_.jpg', '/name/nm0451174/'), ('Shilpa Shetty Kundra', 'https://m.media-amazon.com/images/M/MV5BMTg4MjAxMzk3NV5BMl5BanBnXkFtZTcwODUzMzQzMQ@@._V1_UY209_CR17,0,140,209_AL_.jpg', '/name/nm0792908/'), ('Kajol', 'https://m.media-amazon.com/images/M/MV5BMjIwMjQ5MTQ4N15BMl5BanBnXkFtZTgwOTIyMDU0OTE@._V1_UY209_CR4,0,140,209_AL_.jpg', '/name/nm0004418/'), ('Sunny Deol', 'https://m.media-amazon.com/images/M/MV5BMjEwOTA2MjMwMl5BMl5BanBnXkFtZTcwODc3MDgxOA@@._V1_UY209_CR3,0,140,209_AL_.jpg', '/name/nm0219971/'), ('Urmila Matondkar', 'https://m.media-amazon.com/images/M/MV5BMTQ4OTQ4NTA2OF5BMl5BanBnXkFtZTgwMjQ3OTczOTE@._V1_UX140_CR0,0,140,209_AL_.jpg', '/name/nm0007107/'), ('Saif Ali Khan', 'https://m.media-amazon.com/images/M/MV5BMTUyNjI2NTg3M15BMl5BanBnXkFtZTcwNDEzNDg3OA@@._V1_UX140_CR0,0,140,209_AL_.jpg', '/name/nm0451307/'), ('Juhi Chawla', 'https://m.media-amazon.com/images/M/MV5BMWYyYzhkYjItNDAyMi00ZTdhLWFjZGItM2M4ZGZjYjY5NjZhXkEyXkFqcGdeQXVyNjY1MTg4Mzc@._V1_UX140_CR0,0,140,209_AL_.jpg', '/name/nm0004487/'), ('Tusshar Kapoor', 'https://m.media-amazon.com/images/M/MV5BMTU0MjEzMjM4NV5BMl5BanBnXkFtZTgwNjUwMDMzOTE@._V1_UY209_CR14,0,140,209_AL_.jpg', '/name/nm0969428/'), ('Lara Dutta', 'https://m.media-amazon.com/images/M/MV5BNDk2OTk5NjYwNl5BMl5BanBnXkFtZTcwMzMyMDQ4Mg@@._V1_UY209_CR88,0,140,209_AL_.jpg', '/name/nm1069034/'), ('Anil Kapoor', 'https://m.media-amazon.com/images/M/MV5BMjUyMWE5MjUtMDlkMC00ODc0LThkOTgtNjZhNDgyMTU5ZDhlXkEyXkFqcGdeQXVyMTExNDQ2MTI@._V1_UX140_CR0,0,140,209_AL_.jpg', '/name/nm0438463/'), ('Jacqueline Fernandez', 'https://m.media-amazon.com/images/M/MV5BOTYwNTc1ODE0NF5BMl5BanBnXkFtZTgwNjU3OTA3MjI@._V1_UX140_CR0,0,140,209_AL_.jpg', '/name/nm2596365/'), ('Ranveer Singh', 'https://m.media-amazon.com/images/M/MV5BMTExOTcwMDU4NTReQTJeQWpwZ15BbWU3MDA0MjE1MTc@._V1_UY209_CR1,0,140,209_AL_.jpg', '/name/nm3828984/'), ('Madhavan', 'https://m.media-amazon.com/images/M/MV5BZjQ4NWIwYzYtOTYwZC00ZDI4LWFmYWEtZjhmNTE3ODVhYzJkXkEyXkFqcGdeQXVyOTc1MzM5MA@@._V1_UY209_CR8,0,140,209_AL_.jpg', '/name/nm0534856/'), ('Minissha Lamba', 'https://m.media-amazon.com/images/M/MV5BMTVkMzhkNWItYmIwMy00MTJmLWE2OTItOTcwMjVlMzg4YzEzXkEyXkFqcGdeQXVyMjYwMDk5NjE@._V1_UY209_CR8,0,140,209_AL_.jpg', '/name/nm1999369/'), ('Shreyas Talpade', 'https://m.media-amazon.com/images/M/MV5BMjZhOTQzNTEtNGY4NS00ZmQxLThkMDEtM2M4NDVjMjc0MWNlXkEyXkFqcGdeQXVyMTExNDQ2MTI@._V1_UY209_CR12,0,140,209_AL_.jpg', '/name/nm1662277/'), ('Shahid Kapoor', 'https://m.media-amazon.com/images/M/MV5BMjc5NTM5NjUyMV5BMl5BanBnXkFtZTgwMDEwMzU1OTE@._V1_UX140_CR0,0,140,209_AL_.jpg', '/name/nm1372788/'), ('Sonam Kapoor', 'https://m.media-amazon.com/images/M/MV5BMGU4Njg5MjgtNzIyNC00M2I0LThlYjAtZjZhMGJhOWNmMzA2L2ltYWdlXkEyXkFqcGdeQXVyMTExNDQ2MTI@._V1_UY209_CR3,0,140,209_AL_.jpg', '/name/nm2128238/'), (\"Genelia D'Souza\", 'https://m.media-amazon.com/images/M/MV5BMTMyMDc5OTEyNl5BMl5BanBnXkFtZTcwMjczNzYwMw@@._V1_UY209_CR87,0,140,209_AL_.jpg', '/name/nm1299510/'), ('Irrfan Khan', 'https://m.media-amazon.com/images/M/MV5BNDg3NDgxNzY4NF5BMl5BanBnXkFtZTcwODMxODQzMg@@._V1_UY209_CR8,0,140,209_AL_.jpg', '/name/nm0451234/'), ('Sonakshi Sinha', 'https://m.media-amazon.com/images/M/MV5BMTgxMTUyNDg2NF5BMl5BanBnXkFtZTgwOTAyMTIzOTE@._V1_UY209_CR7,0,140,209_AL_.jpg', '/name/nm3848064/'), ('Parineeti Chopra', 'https://m.media-amazon.com/images/M/MV5BMTkzOTgzNzYzMl5BMl5BanBnXkFtZTgwMTI0MzY3OTE@._V1_UY209_CR87,0,140,209_AL_.jpg', '/name/nm4495174/'), ('Vidya Balan', 'https://m.media-amazon.com/images/M/MV5BNDI3Mjk2MjgzMl5BMl5BanBnXkFtZTcwODQwMjI1OQ@@._V1_UY209_CR2,0,140,209_AL_.jpg', '/name/nm1799038/'), ('Bobby Deol', 'https://m.media-amazon.com/images/M/MV5BODA2ODQ5ODI3Nl5BMl5BanBnXkFtZTgwMDYwMDMzOTE@._V1_UY209_CR18,0,140,209_AL_.jpg', '/name/nm0219967/'), ('Dharmendra', 'https://m.media-amazon.com/images/M/MV5BMTk0ODU5NjAzMl5BMl5BanBnXkFtZTcwNDYyOTM5NA@@._V1_UY209_CR87,0,140,209_AL_.jpg', '/name/nm0004429/'), ('Zareen Khan', 'https://m.media-amazon.com/images/M/MV5BMjI2OTk0NDQ0N15BMl5BanBnXkFtZTgwMDkxMTIzOTE@._V1_UX140_CR0,0,140,209_AL_.jpg', '/name/nm3768934/'), ('Shazahn Padamsee', 'https://m.media-amazon.com/images/M/MV5BNTcwODgyNDMtOTQxNS00MTlhLTkxYmMtNDg1OWIzODEzZjgyXkEyXkFqcGdeQXVyMTExNDQ2MTI@._V1_UY209_CR9,0,140,209_AL_.jpg', '/name/nm3724228/'), ('Riteish Deshmukh', 'https://m.media-amazon.com/images/M/MV5BMTU3NDM3NDM3Ml5BMl5BanBnXkFtZTgwMzk4ODEzOTE@._V1_UY209_CR8,0,140,209_AL_.jpg', '/name/nm1299011/'), ('Neil Nitin Mukesh', 'https://m.media-amazon.com/images/M/MV5BZTlhZjVlNzMtMzlhOC00ZWJlLTg1NzItZTU5NDNmNzFhZWU0XkEyXkFqcGdeQXVyMjkxNzQ1NDI@._V1_UY209_CR0,0,140,209_AL_.jpg', '/name/nm1778703/'), ('Naseeruddin Shah', 'https://m.media-amazon.com/images/M/MV5BMTQ4MDcyOTExOV5BMl5BanBnXkFtZTgwOTQyMDU0OTE@._V1_UY209_CR12,0,140,209_AL_.jpg', '/name/nm0787462/'), ('Sharman Joshi', 'https://m.media-amazon.com/images/M/MV5BYWE5MWNkYWQtZTZjZS00N2U0LTgzNzMtNzZkMzJmMWYzZWNkXkEyXkFqcGdeQXVyMTExNDQ2MTI@._V1_UY209_CR3,0,140,209_AL_.jpg', '/name/nm0430817/'), ('Paresh Rawal', 'https://m.media-amazon.com/images/M/MV5BMjI4Mjg2MjgxMV5BMl5BanBnXkFtZTgwNDYyMTIzOTE@._V1_UY209_CR88,0,140,209_AL_.jpg', '/name/nm0712546/'), ('Akshaye Khanna', 'https://m.media-amazon.com/images/M/MV5BMjAxNDQyNDkxM15BMl5BanBnXkFtZTcwNTQyNTA0MQ@@._V1_UY209_CR87,0,140,209_AL_.jpg', '/name/nm0451379/'), ('Twinkle Khanna', 'https://m.media-amazon.com/images/M/MV5BMzMyYTA0ZGItZmIwZC00ZjMzLThiZTEtNzRmZWM4MTRlMjJkXkEyXkFqcGdeQXVyNjY1MTg4Mzc@._V1_UY209_CR13,0,140,209_AL_.jpg', '/name/nm0007012/'), ('Shriya Saran', 'https://m.media-amazon.com/images/M/MV5BMTk4MDc5NDk3MV5BMl5BanBnXkFtZTcwNTc5MDQ2NA@@._V1_UY209_CR87,0,140,209_AL_.jpg', '/name/nm1328152/'), ('Mugdha Godse', 'https://m.media-amazon.com/images/M/MV5BNzllMDk2OTQtYWQxYS00MDQwLWE5NmMtMmQ3NTMxMzNkMGM1XkEyXkFqcGdeQXVyNDUzOTQ5MjY@._V1_UX140_CR0,0,140,209_AL_.jpg', '/name/nm2585918/'), ('Rajeev Khandelwal', 'https://m.media-amazon.com/images/M/MV5BMTc3MDYwMjcxNV5BMl5BanBnXkFtZTgwNDk0ODA0OTE@._V1_UX140_CR0,0,140,209_AL_.jpg', '/name/nm3901368/'), ('Omi Vaidya', 'https://m.media-amazon.com/images/M/MV5BNjE2MjYzMjg0NV5BMl5BanBnXkFtZTcwMTYwNzMxOA@@._V1_UY209_CR5,0,140,209_AL_.jpg', '/name/nm1437925/'), ('Aditi Rao Hydari', 'https://m.media-amazon.com/images/M/MV5BMTY3OTc3NTg2OV5BMl5BanBnXkFtZTgwMjkzMDY3NTE@._V1_UY209_CR17,0,140,209_AL_.jpg', '/name/nm2390814/'), ('Celina Jaitly', 'https://m.media-amazon.com/images/M/MV5BNWFkODg2ZDgtMDVkOC00NGU2LTg5M2UtNGMwMzg2NTViOWYwXkEyXkFqcGdeQXVyNDUzOTQ5MjY@._V1_UY209_CR10,0,140,209_AL_.jpg', '/name/nm1380415/'), ('Mithun Chakraborty', 'https://m.media-amazon.com/images/M/MV5BMjQwNDUxMzY4Ml5BMl5BanBnXkFtZTgwMTgxMTIzOTE@._V1_UY209_CR6,0,140,209_AL_.jpg', '/name/nm0149822/'), ('Yami Gautam', 'https://m.media-amazon.com/images/M/MV5BMTA3NzAwNjcwMjNeQTJeQWpwZ15BbWU4MDIyODgxMzkx._V1_UX140_CR0,0,140,209_AL_.jpg', '/name/nm4417069/'), ('Ayushmann Khurrana', 'https://m.media-amazon.com/images/M/MV5BOTk4MDY4ODAwNl5BMl5BanBnXkFtZTcwNzQ0MjY2Nw@@._V1_UY209_CR87,0,140,209_AL_.jpg', '/name/nm4731677/'), ('Ajay Devgn', 'https://m.media-amazon.com/images/M/MV5BMTY0MDY2MDMwOV5BMl5BanBnXkFtZTgwNDE4MDM0OTE@._V1_UY209_CR6,0,140,209_AL_.jpg', '/name/nm0222426/'), ('Kangana Ranaut', 'https://m.media-amazon.com/images/M/MV5BMTA2NTg0ODA1ODJeQTJeQWpwZ15BbWU4MDM0NDkxNTMy._V1_UY209_CR4,0,140,209_AL_.jpg', '/name/nm2144007/'), ('Zayed Khan', 'https://m.media-amazon.com/images/M/MV5BMTA4NTg4NDQxMjheQTJeQWpwZ15BbWU4MDY0MzI4Mzkx._V1_UY209_CR87,0,140,209_AL_.jpg', '/name/nm1300301/'), ('Sameera Reddy', 'https://m.media-amazon.com/images/M/MV5BOTNkOTJhNGEtMWI1ZC00MTFlLTg0MGYtYzA5ZTA3NjVjMjM1XkEyXkFqcGdeQXVyMjYwMDk5NjE@._V1_UY209_CR5,0,140,209_AL_.jpg', '/name/nm1213820/'), ('Ameesha Patel', 'https://m.media-amazon.com/images/M/MV5BMTg3MDE2MzQ2M15BMl5BanBnXkFtZTgwNTIxMTIzOTE@._V1_UY209_CR9,0,140,209_AL_.jpg', '/name/nm0665349/'), ('Jaaved Jaffery', 'https://m.media-amazon.com/images/G/01/imdb/images/nopicture/medium/name-2135195744._CB466677935_.png', '/name/nm4214448/'), ('Sanjay Dutt', 'https://m.media-amazon.com/images/M/MV5BNzU2NTgwNzY1OF5BMl5BanBnXkFtZTcwMjQxNzcxOA@@._V1_UY209_CR87,0,140,209_AL_.jpg', '/name/nm0004569/'), ('Abhay Deol', 'https://m.media-amazon.com/images/M/MV5BMTU2NzkzODA3OV5BMl5BanBnXkFtZTcwMzk2MDMyOA@@._V1_UX140_CR0,0,140,209_AL_.jpg', '/name/nm1867717/'), ('Kalki Koechlin', 'https://m.media-amazon.com/images/M/MV5BNzI4NDQyMjU2MF5BMl5BanBnXkFtZTgwMzc4ODEzOTE@._V1_UX140_CR0,0,140,209_AL_.jpg', '/name/nm3202701/'), ('Prachi Desai', 'https://m.media-amazon.com/images/M/MV5BMzExNzQ0OTE5Nl5BMl5BanBnXkFtZTgwMTU1MjcxMjE@._V1_UY209_CR34,0,140,209_AL_.jpg', '/name/nm2278458/'), ('Manoj Bajpayee', 'https://m.media-amazon.com/images/M/MV5BMzUxODk5MmEtZGQxOC00NzUxLWI5YTEtYWFjMjZmZTIwNTA5XkEyXkFqcGdeQXVyMTExNDQ2MTI@._V1_UY209_CR8,0,140,209_AL_.jpg', '/name/nm0048075/'), ('Sonu Sood', 'https://m.media-amazon.com/images/M/MV5BZGI2MGUwYzQtZmVmNi00MDc3LWEwMzMtNTIzMWIzMDk5YzViL2ltYWdlXkEyXkFqcGdeQXVyMTExNDQ2MTI@._V1_UY209_CR10,0,140,209_AL_.jpg', '/name/nm1399243/'), ('Neha Dhupia', 'https://m.media-amazon.com/images/M/MV5BMTQ1OTA2ODc4Ml5BMl5BanBnXkFtZTcwODE4MDY3Mg@@._V1_UY209_CR3,0,140,209_AL_.jpg', '/name/nm1226448/'), ('Vinay Pathak', 'https://m.media-amazon.com/images/M/MV5BMTgxODI1NTI2MV5BMl5BanBnXkFtZTgwODgxODYyNjE@._V1_UY209_CR86,0,140,209_AL_.jpg', '/name/nm0665555/'), ('Abhishek Bachchan', 'https://m.media-amazon.com/images/M/MV5BMTk1NjU1NjkxN15BMl5BanBnXkFtZTcwNDI4MDMzMg@@._V1_UY209_CR7,0,140,209_AL_.jpg', '/name/nm0045393/'), ('Sridevi', 'https://m.media-amazon.com/images/M/MV5BMTQyMjg4Mzk2M15BMl5BanBnXkFtZTcwMjE0MTg2OA@@._V1_UY209_CR18,0,140,209_AL_.jpg', '/name/nm0004437/'), ('Arjun Rampal', 'https://m.media-amazon.com/images/M/MV5BMTg0NTAzOTU4Ml5BMl5BanBnXkFtZTcwMzg1MjUyOA@@._V1_UX140_CR0,0,140,209_AL_.jpg', '/name/nm0992000/'), ('Farhan Akhtar', 'https://m.media-amazon.com/images/M/MV5BMjA4MjYwNzAzM15BMl5BanBnXkFtZTcwMzUyMTUxNw@@._V1_UX140_CR0,0,140,209_AL_.jpg', '/name/nm1027719/'), ('Vivek Oberoi', 'https://m.media-amazon.com/images/M/MV5BMjA0NjYxODI4MF5BMl5BanBnXkFtZTgwMDcwMDMzOTE@._V1_UX140_CR0,0,140,209_AL_.jpg', '/name/nm1059103/'), ('Manisha Koirala', 'https://m.media-amazon.com/images/M/MV5BMjMwMDMxOTQ1OV5BMl5BanBnXkFtZTcwNzIyMjcwNQ@@._V1_UY209_CR87,0,140,209_AL_.jpg', '/name/nm0463539/'), ('Tabu', 'https://m.media-amazon.com/images/M/MV5BMTU0ODQ2MjA5NF5BMl5BanBnXkFtZTYwMjczMjA0._V1_UY209_CR1,0,140,209_AL_.jpg', '/name/nm0007102/'), ('Isha Koppikar', 'https://m.media-amazon.com/images/M/MV5BYmJjYWZlN2UtZTBmNS00MjllLWIzZjEtYTljZTQ1ZDAzN2JiXkEyXkFqcGdeQXVyMTExNDQ2MTI@._V1_UY209_CR4,0,140,209_AL_.jpg', '/name/nm0465929/'), ('Sushmita Sen', 'https://m.media-amazon.com/images/M/MV5BZmRhMzE5YzYtZTllOC00ZGRmLTgzNmYtOTkxNjhmYjFmZjY3XkEyXkFqcGdeQXVyNDUzOTQ5MjY@._V1_UY209_CR1,0,140,209_AL_.jpg', '/name/nm0784047/'), ('Amrita Rao', 'https://m.media-amazon.com/images/M/MV5BMTg0MTAyMzcwMl5BMl5BanBnXkFtZTcwMjUzNjcyNA@@._V1_UX140_CR0,0,140,209_AL_.jpg', '/name/nm1182255/'), ('Chitrangda Singh', 'https://m.media-amazon.com/images/M/MV5BMTcxMDg5MzQ4MV5BMl5BanBnXkFtZTcwNTMzMDMxNw@@._V1_UY209_CR87,0,140,209_AL_.jpg', '/name/nm1696711/'), ('Arjun Kapoor', 'https://m.media-amazon.com/images/M/MV5BMTU4ODM3ODA0Ml5BMl5BanBnXkFtZTgwNzA4MTgzMTE@._V1_UY209_CR87,0,140,209_AL_.jpg', '/name/nm1819083/'), ('Emraan Hashmi', 'https://m.media-amazon.com/images/M/MV5BMjA4Nzk3MDU0OV5BMl5BanBnXkFtZTgwMTEyMDU0OTE@._V1_UX140_CR0,0,140,209_AL_.jpg', '/name/nm1431656/'), ('Mallika Sherawat', 'https://m.media-amazon.com/images/M/MV5BMDVlYWIxNGEtZmZiZi00ZWNmLWI2NTEtYzQ2OTBjNDU2N2MxXkEyXkFqcGdeQXVyNDUzOTQ5MjY@._V1_UY209_CR13,0,140,209_AL_.jpg', '/name/nm1324246/'), ('Nawazuddin Siddiqui', 'https://m.media-amazon.com/images/M/MV5BMTU5NTQwMTI0NV5BMl5BanBnXkFtZTcwNzQyNTgxOA@@._V1_UX140_CR0,0,140,209_AL_.jpg', '/name/nm1596350/'), ('Aditya Roy Kapoor', 'https://m.media-amazon.com/images/M/MV5BZmNlODEzM2YtOTUyOS00MDVmLTk4YzgtMzAxZmQ2ZDBkNTAyXkEyXkFqcGdeQXVyMTExNDQ2MTI@._V1_UY209_CR6,0,140,209_AL_.jpg', '/name/nm3169069/'), ('Sunny Leone', 'https://m.media-amazon.com/images/M/MV5BMTM2Mzc1MDYxOV5BMl5BanBnXkFtZTcwMzc1MDQ4Nw@@._V1_UY209_CR9,0,140,209_AL_.jpg', '/name/nm1293381/')]\n"
          ],
          "name": "stdout"
        }
      ]
    },
    {
      "cell_type": "code",
      "metadata": {
        "id": "5Wl6qVTo7Ao2",
        "colab_type": "code",
        "colab": {}
      },
      "source": [
        "def get_personality(x):\n",
        "  x = \"https://www.imdb.com\" + celebrities[i][2] + \"bio?ref_=nm_ov_bio_sm\"\n",
        "  temp_url = x\n",
        "  temp_r = requests.get(temp_url)\n",
        "  temp_soup = BeautifulSoup(temp_r.content, 'html5lib') \n",
        "  temp_table = temp_soup.find('div', attrs = {'class':'soda odd'})\n",
        "  # print(temp_table.p.text)\n",
        "  x = temp_table.p.text\n",
        "  return x\n",
        "\n",
        "#TO write in a .CSV file\n",
        "#.CSV file contains name of celebs, their personality(as in mini bio) and a link to their respective images.\n",
        "with open('indian_movie_celebs.csv', 'w', newline = '') as file:\n",
        "  writer = csv.writer(file)\n",
        "  writer.writerow([\"SERIAL No.\", \"NAME\", \"IMAGE\", \"PERSONALITY\"])\n",
        "  for i in range(len(celebrities)):\n",
        "    ret = get_personality(i)\n",
        "    writer.writerow([i+1, celebrities[i][0], celebrities[i][1], ret])\n",
        "    "
      ],
      "execution_count": 0,
      "outputs": []
    }
  ]
}